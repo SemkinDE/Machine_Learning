{
  "nbformat": 4,
  "nbformat_minor": 0,
  "metadata": {
    "colab": {
      "provenance": []
    },
    "kernelspec": {
      "name": "python3",
      "display_name": "Python 3"
    },
    "language_info": {
      "name": "python"
    }
  },
  "cells": [
    {
      "cell_type": "code",
      "execution_count": 1,
      "metadata": {
        "id": "Qjz4ze2sipPL"
      },
      "outputs": [],
      "source": [
        "import sys, os\n",
        "transition_probs = {\n",
        "    's0': {\n",
        "        'a0': {'s0': 0.5, 's2': 0.5},\n",
        "        'a1': {'s2': 1}\n",
        "    },\n",
        "    's1': {\n",
        "        'a0': {'s0': 0.7, 's1': 0.1, 's2': 0.2},\n",
        "        'a1': {'s1': 0.95, 's2': 0.05}\n",
        "    },\n",
        "    's2': {\n",
        "        'a0': {'s0': 0.4, 's2': 0.6},\n",
        "        'a1': {'s0': 0.3, 's1': 0.3, 's2': 0.4}\n",
        "    }\n",
        "}\n",
        "rewards = {\n",
        "    's1': {'a0': {'s0': +5}},\n",
        "    's2': {'a1': {'s0': -1}}\n",
        "}\n",
        "from mdp import MDP\n",
        "mdp = MDP(transition_probs, rewards, initial_state='s0')"
      ]
    },
    {
      "cell_type": "code",
      "source": [
        "print('initial state =', mdp.reset())\n",
        "next_state, reward, done, info = mdp.step('a1')\n",
        "print('next_state = %s, reward = %s, done = %s' % (next_state, reward, done))"
      ],
      "metadata": {
        "colab": {
          "base_uri": "https://localhost:8080/"
        },
        "id": "Qb2mqtvyjF8E",
        "outputId": "7a2b2843-eca8-4a65-8086-b97c12cdecd6"
      },
      "execution_count": 2,
      "outputs": [
        {
          "output_type": "stream",
          "name": "stdout",
          "text": [
            "initial state = s0\n",
            "next_state = s2, reward = 0.0, done = False\n"
          ]
        }
      ]
    },
    {
      "cell_type": "code",
      "source": [
        "print(\"mdp.get_all_states =\", mdp.get_all_states())\n",
        "print(\"mdp.get_possible_actions('s1') = \", mdp.get_possible_actions('s1'))\n",
        "print(\"mdp.get_next_states('s1', 'a0') = \", mdp.get_next_states('s1', 'a0'))\n",
        "print(\"mdp.get_reward('s1', 'a0', 's0') = \", mdp.get_reward('s1', 'a0', 's0'))\n",
        "print(\"mdp.get_transition_prob('s1', 'a0', 's0') = \", mdp.get_transition_prob('s1', 'a0', 's0'))"
      ],
      "metadata": {
        "colab": {
          "base_uri": "https://localhost:8080/"
        },
        "id": "HrpdCd90jIL7",
        "outputId": "07c9a94d-058c-4421-d3b9-0d3b690b52cb"
      },
      "execution_count": 3,
      "outputs": [
        {
          "output_type": "stream",
          "name": "stdout",
          "text": [
            "mdp.get_all_states = ('s0', 's1', 's2')\n",
            "mdp.get_possible_actions('s1') =  ('a0', 'a1')\n",
            "mdp.get_next_states('s1', 'a0') =  {'s0': 0.7, 's1': 0.1, 's2': 0.2}\n",
            "mdp.get_reward('s1', 'a0', 's0') =  5\n",
            "mdp.get_transition_prob('s1', 'a0', 's0') =  0.7\n"
          ]
        }
      ]
    },
    {
      "cell_type": "code",
      "source": [
        "def get_action_value(mdp, state_values, state, action, gamma):\n",
        "    \"\"\"\n",
        "    Вычисляет Q(s, a) из формулы (1) описания лабораторной работы\n",
        "    \"\"\"\n",
        "    # Начальная установка значения Q(s, a)\n",
        "    current_q = 0\n",
        "\n",
        "    # Обработка каждого возможного состояния s', достижимого из s при выполнении действия a\n",
        "    for future_state, transition_prob in mdp.get_next_states(state, action).items():\n",
        "        reward_value = mdp.get_reward(state, action, future_state)  # Вычисление награды r(s, a, s')\n",
        "        future_value = state_values[future_state]  # Получение значения состояния V(s')\n",
        "        current_q += transition_prob * (reward_value + gamma * future_value)  # Агрегирование результатов\n",
        "\n",
        "    return current_q\n"
      ],
      "metadata": {
        "id": "dh4a-6IIjLg8"
      },
      "execution_count": 8,
      "outputs": []
    },
    {
      "cell_type": "code",
      "source": [
        "import numpy as np\n",
        "test_Vs = {s: i for i, s in enumerate(sorted(mdp.get_all_states()))}\n",
        "assert np.isclose(get_action_value(mdp, test_Vs, 's2', 'a1', 0.9), 0.69)\n",
        "assert np.isclose(get_action_value(mdp, test_Vs, 's1', 'a0', 0.9), 3.95)"
      ],
      "metadata": {
        "id": "lkZrokSUjOw-"
      },
      "execution_count": 9,
      "outputs": []
    },
    {
      "cell_type": "code",
      "source": [
        "def get_new_state_value(mdp, state_values, state, gamma):\n",
        "    \"\"\"\n",
        "    Вычисление следующего V(s) по формуле (2). В процессе не меняйте state_values.\n",
        "    \"\"\"\n",
        "    if mdp.is_terminal(state):\n",
        "        return 0\n",
        "\n",
        "    # Находим максимальное значение Q(s, a) по всем возможным действиям\n",
        "    max_value = float('-inf')  # Инициализация минимально возможным значением\n",
        "    for action in mdp.get_possible_actions(state):\n",
        "        q_value = get_action_value(mdp, state_values, state, action, gamma)\n",
        "        max_value = max(max_value, q_value)  # Сравниваем и обновляем максимум\n",
        "\n",
        "    return max_value"
      ],
      "metadata": {
        "id": "IPHbiKsUjQ_X"
      },
      "execution_count": 10,
      "outputs": []
    },
    {
      "cell_type": "code",
      "source": [
        "# Проверка на наличие библиотеки graphviz\n",
        "try:\n",
        "    from IPython.display import display\n",
        "    from mdp import plot_graph_with_state_values\n",
        "    has_graphviz = True\n",
        "except ImportError:\n",
        "    has_graphviz = False\n",
        "\n",
        "# Параметры\n",
        "gamma = 0.9            # дисконт MDP\n",
        "num_iter = 100         # максимальное число итераций, за исключением инициализации\n",
        "min_difference = 0.001 # Останавливаем VI, если новые значения ближе к старым менее чем\n",
        "\n",
        "# Инициализация V(s)\n",
        "state_values = {s: 0 for s in mdp.get_all_states()}\n",
        "\n",
        "if has_graphviz:\n",
        "    display(plot_graph_with_state_values(mdp, state_values))\n",
        "\n",
        "for i in range(num_iter):\n",
        "    # Вычисление новых значений состояния, используя ранее написанные функции.\n",
        "    # Они имеют формат словаря {state : float V_new(state)}\n",
        "    new_state_values = {\n",
        "        state: get_new_state_value(mdp, state_values, state, gamma)\n",
        "        for state in mdp.get_all_states()\n",
        "    }\n",
        "    assert isinstance(new_state_values, dict)\n",
        "\n",
        "    # Вычисление отклонений\n",
        "    diff = max(abs(new_state_values[s] - state_values[s])\n",
        "               for s in mdp.get_all_states())\n",
        "    print(\"iter %4i   |   diff: %6.5f   |   \" % (i, diff), end=\"\")\n",
        "    print('   '.join(\"V(%s) = %.3f\" % (s, v) for s, v in state_values.items()))\n",
        "\n",
        "    # Обновляем значения\n",
        "    state_values = new_state_values\n",
        "\n",
        "    if diff < min_difference:\n",
        "        print(\"Terminated\")\n",
        "        break\n",
        "\n",
        "if has_graphviz:\n",
        "    display(plot_graph_with_state_values(mdp, state_values))\n",
        "\n",
        "print(\"Final state values:\", state_values)\n",
        "\n",
        "# Проверка конечных значений\n",
        "assert abs(state_values['s0'] - 3.781) < 0.01\n",
        "assert abs(state_values['s1'] - 7.294) < 0.01\n",
        "assert abs(state_values['s2'] - 4.202) < 0.01\n",
        "\n",
        "\n"
      ],
      "metadata": {
        "colab": {
          "base_uri": "https://localhost:8080/",
          "height": 1000
        },
        "id": "Ipq5xqCujTPA",
        "outputId": "af7a5442-a991-43a9-cee3-223e335f5a73"
      },
      "execution_count": 11,
      "outputs": [
        {
          "output_type": "display_data",
          "data": {
            "image/svg+xml": "<?xml version=\"1.0\" encoding=\"UTF-8\" standalone=\"no\"?>\n<!DOCTYPE svg PUBLIC \"-//W3C//DTD SVG 1.1//EN\"\n \"http://www.w3.org/Graphics/SVG/1.1/DTD/svg11.dtd\">\n<!-- Generated by graphviz version 2.43.0 (0)\n -->\n<!-- Title: MDP Pages: 1 -->\n<svg width=\"1096pt\" height=\"327pt\"\n viewBox=\"0.00 0.00 1095.72 327.00\" xmlns=\"http://www.w3.org/2000/svg\" xmlns:xlink=\"http://www.w3.org/1999/xlink\">\n<g id=\"graph0\" class=\"graph\" transform=\"scale(1 1) rotate(0) translate(4 323)\">\n<title>MDP</title>\n<polygon fill=\"white\" stroke=\"transparent\" points=\"-4,4 -4,-323 1091.72,-323 1091.72,4 -4,4\"/>\n<!-- s0 -->\n<g id=\"node1\" class=\"node\">\n<title>s0</title>\n<ellipse fill=\"#85ff75\" stroke=\"#85ff75\" cx=\"51.38\" cy=\"-116\" rx=\"47.26\" ry=\"47.26\"/>\n<ellipse fill=\"none\" stroke=\"#85ff75\" cx=\"51.38\" cy=\"-116\" rx=\"51.25\" ry=\"51.25\"/>\n<text text-anchor=\"middle\" x=\"51.38\" y=\"-122.8\" font-family=\"Arial\" font-size=\"24.00\">s0</text>\n<text text-anchor=\"middle\" x=\"51.38\" y=\"-96.8\" font-family=\"Arial\" font-size=\"24.00\">V =0</text>\n</g>\n<!-- s0&#45;a0 -->\n<g id=\"node2\" class=\"node\">\n<title>s0&#45;a0</title>\n<ellipse fill=\"lightpink\" stroke=\"lightpink\" cx=\"216.33\" cy=\"-160\" rx=\"27.65\" ry=\"27.65\"/>\n<text text-anchor=\"middle\" x=\"216.33\" y=\"-155\" font-family=\"Arial\" font-size=\"20.00\">a0</text>\n</g>\n<!-- s0&#45;&gt;s0&#45;a0 -->\n<g id=\"edge1\" class=\"edge\">\n<title>s0&#45;&gt;s0&#45;a0</title>\n<path fill=\"none\" stroke=\"red\" stroke-width=\"2\" d=\"M102.02,-125.7C123.36,-130.29 148.46,-136.24 170.75,-143 174.1,-144.02 177.56,-145.16 181.01,-146.36\"/>\n<polygon fill=\"red\" stroke=\"red\" stroke-width=\"2\" points=\"179.96,-149.71 190.55,-149.85 182.36,-143.13 179.96,-149.71\"/>\n</g>\n<!-- s0&#45;a1 -->\n<g id=\"node4\" class=\"node\">\n<title>s0&#45;a1</title>\n<ellipse fill=\"lightpink\" stroke=\"lightpink\" cx=\"216.33\" cy=\"-233\" rx=\"27.65\" ry=\"27.65\"/>\n<text text-anchor=\"middle\" x=\"216.33\" y=\"-228\" font-family=\"Arial\" font-size=\"20.00\">a1</text>\n</g>\n<!-- s0&#45;&gt;s0&#45;a1 -->\n<g id=\"edge4\" class=\"edge\">\n<title>s0&#45;&gt;s0&#45;a1</title>\n<path fill=\"none\" stroke=\"red\" stroke-width=\"2\" d=\"M90.27,-149.83C99.98,-158.03 110.57,-166.57 120.75,-174 140.77,-188.61 164.42,-203.37 183.07,-214.47\"/>\n<polygon fill=\"red\" stroke=\"red\" stroke-width=\"2\" points=\"181.39,-217.54 191.78,-219.61 184.94,-211.51 181.39,-217.54\"/>\n</g>\n<!-- s0&#45;a0&#45;&gt;s0 -->\n<g id=\"edge2\" class=\"edge\">\n<title>s0&#45;a0&#45;&gt;s0</title>\n<path fill=\"none\" stroke=\"blue\" stroke-dasharray=\"5,2\" d=\"M189.02,-155.38C169.92,-151.8 143.54,-146.38 120.75,-140 117.15,-138.99 113.46,-137.89 109.75,-136.74\"/>\n<polygon fill=\"blue\" stroke=\"blue\" points=\"110.54,-133.31 99.95,-133.58 108.39,-139.98 110.54,-133.31\"/>\n<text text-anchor=\"middle\" x=\"145.75\" y=\"-157.2\" font-family=\"Arial\" font-size=\"16.00\">p = 0.5</text>\n</g>\n<!-- s2 -->\n<g id=\"node3\" class=\"node\">\n<title>s2</title>\n<ellipse fill=\"#85ff75\" stroke=\"#85ff75\" cx=\"467.28\" cy=\"-189\" rx=\"47.26\" ry=\"47.26\"/>\n<ellipse fill=\"none\" stroke=\"#85ff75\" cx=\"467.28\" cy=\"-189\" rx=\"51.25\" ry=\"51.25\"/>\n<text text-anchor=\"middle\" x=\"467.28\" y=\"-195.8\" font-family=\"Arial\" font-size=\"24.00\">s2</text>\n<text text-anchor=\"middle\" x=\"467.28\" y=\"-169.8\" font-family=\"Arial\" font-size=\"24.00\">V =0</text>\n</g>\n<!-- s0&#45;a0&#45;&gt;s2 -->\n<g id=\"edge3\" class=\"edge\">\n<title>s0&#45;a0&#45;&gt;s2</title>\n<path fill=\"none\" stroke=\"blue\" stroke-dasharray=\"5,2\" d=\"M243.97,-163.1C282.31,-167.57 354.09,-175.93 405.73,-181.95\"/>\n<polygon fill=\"blue\" stroke=\"blue\" points=\"405.43,-185.44 415.77,-183.12 406.24,-178.48 405.43,-185.44\"/>\n<text text-anchor=\"middle\" x=\"329.91\" y=\"-186.2\" font-family=\"Arial\" font-size=\"16.00\">p = 0.5</text>\n</g>\n<!-- s2&#45;a0 -->\n<g id=\"node8\" class=\"node\">\n<title>s2&#45;a0</title>\n<ellipse fill=\"lightpink\" stroke=\"lightpink\" cx=\"712.24\" cy=\"-162\" rx=\"27.65\" ry=\"27.65\"/>\n<text text-anchor=\"middle\" x=\"712.24\" y=\"-157\" font-family=\"Arial\" font-size=\"20.00\">a0</text>\n</g>\n<!-- s2&#45;&gt;s2&#45;a0 -->\n<g id=\"edge13\" class=\"edge\">\n<title>s2&#45;&gt;s2&#45;a0</title>\n<path fill=\"none\" stroke=\"red\" stroke-width=\"2\" d=\"M518.67,-191.94C559.16,-193.12 617.23,-192.14 666.66,-181 670.32,-180.17 674.06,-179.06 677.74,-177.78\"/>\n<polygon fill=\"red\" stroke=\"red\" stroke-width=\"2\" points=\"679.18,-180.98 687.24,-174.1 676.65,-174.45 679.18,-180.98\"/>\n</g>\n<!-- s2&#45;a1 -->\n<g id=\"node9\" class=\"node\">\n<title>s2&#45;a1</title>\n<ellipse fill=\"lightpink\" stroke=\"lightpink\" cx=\"712.24\" cy=\"-77\" rx=\"27.65\" ry=\"27.65\"/>\n<text text-anchor=\"middle\" x=\"712.24\" y=\"-72\" font-family=\"Arial\" font-size=\"20.00\">a1</text>\n</g>\n<!-- s2&#45;&gt;s2&#45;a1 -->\n<g id=\"edge16\" class=\"edge\">\n<title>s2&#45;&gt;s2&#45;a1</title>\n<path fill=\"none\" stroke=\"red\" stroke-width=\"2\" d=\"M511.56,-162.48C519.79,-157.78 528.4,-153.09 536.66,-149 584.05,-125.51 641.04,-103.03 676.71,-89.62\"/>\n<polygon fill=\"red\" stroke=\"red\" stroke-width=\"2\" points=\"678.04,-92.86 686.18,-86.08 675.59,-86.3 678.04,-92.86\"/>\n</g>\n<!-- s0&#45;a1&#45;&gt;s2 -->\n<g id=\"edge5\" class=\"edge\">\n<title>s0&#45;a1&#45;&gt;s2</title>\n<path fill=\"none\" stroke=\"blue\" stroke-dasharray=\"5,2\" d=\"M243.7,-228.93C278.92,-223.43 343.22,-213.14 397.91,-203 400.75,-202.47 403.67,-201.92 406.61,-201.35\"/>\n<polygon fill=\"blue\" stroke=\"blue\" points=\"407.51,-204.74 416.66,-199.39 406.17,-197.87 407.51,-204.74\"/>\n<text text-anchor=\"middle\" x=\"329.91\" y=\"-230.2\" font-family=\"Arial\" font-size=\"16.00\">p = 1</text>\n</g>\n<!-- s1 -->\n<g id=\"node5\" class=\"node\">\n<title>s1</title>\n<ellipse fill=\"#85ff75\" stroke=\"#85ff75\" cx=\"886.19\" cy=\"-86\" rx=\"47.26\" ry=\"47.26\"/>\n<ellipse fill=\"none\" stroke=\"#85ff75\" cx=\"886.19\" cy=\"-86\" rx=\"51.25\" ry=\"51.25\"/>\n<text text-anchor=\"middle\" x=\"886.19\" y=\"-92.8\" font-family=\"Arial\" font-size=\"24.00\">s1</text>\n<text text-anchor=\"middle\" x=\"886.19\" y=\"-66.8\" font-family=\"Arial\" font-size=\"24.00\">V =0</text>\n</g>\n<!-- s1&#45;a0 -->\n<g id=\"node6\" class=\"node\">\n<title>s1&#45;a0</title>\n<ellipse fill=\"lightpink\" stroke=\"lightpink\" cx=\"1060.14\" cy=\"-62\" rx=\"27.65\" ry=\"27.65\"/>\n<text text-anchor=\"middle\" x=\"1060.14\" y=\"-57\" font-family=\"Arial\" font-size=\"20.00\">a0</text>\n</g>\n<!-- s1&#45;&gt;s1&#45;a0 -->\n<g id=\"edge6\" class=\"edge\">\n<title>s1&#45;&gt;s1&#45;a0</title>\n<path fill=\"none\" stroke=\"red\" stroke-width=\"2\" d=\"M937.58,-81.76C961.06,-79.46 989.33,-76.2 1014.57,-72 1017.26,-71.55 1020.04,-71.04 1022.82,-70.5\"/>\n<polygon fill=\"red\" stroke=\"red\" stroke-width=\"2\" points=\"1023.76,-73.88 1032.84,-68.41 1022.33,-67.02 1023.76,-73.88\"/>\n</g>\n<!-- s1&#45;a1 -->\n<g id=\"node7\" class=\"node\">\n<title>s1&#45;a1</title>\n<ellipse fill=\"lightpink\" stroke=\"lightpink\" cx=\"1060.14\" cy=\"-144\" rx=\"27.65\" ry=\"27.65\"/>\n<text text-anchor=\"middle\" x=\"1060.14\" y=\"-139\" font-family=\"Arial\" font-size=\"20.00\">a1</text>\n</g>\n<!-- s1&#45;&gt;s1&#45;a1 -->\n<g id=\"edge10\" class=\"edge\">\n<title>s1&#45;&gt;s1&#45;a1</title>\n<path fill=\"none\" stroke=\"red\" stroke-width=\"2\" d=\"M935.98,-99.62C959.86,-106.62 988.93,-115.64 1014.57,-125 1018.09,-126.29 1021.74,-127.7 1025.37,-129.16\"/>\n<polygon fill=\"red\" stroke=\"red\" stroke-width=\"2\" points=\"1024.23,-132.48 1034.8,-133.08 1026.91,-126.01 1024.23,-132.48\"/>\n</g>\n<!-- s1&#45;a0&#45;&gt;s0 -->\n<g id=\"edge7\" class=\"edge\">\n<title>s1&#45;a0&#45;&gt;s0</title>\n<path fill=\"none\" stroke=\"blue\" stroke-dasharray=\"5,2\" d=\"M1036.17,-47.93C1004.06,-29.64 943.36,0 887.19,0 215.33,0 215.33,0 215.33,0 165.66,0 120.62,-36.21 90.55,-68.17\"/>\n<polygon fill=\"blue\" stroke=\"blue\" points=\"87.78,-66.01 83.61,-75.75 92.94,-70.74 87.78,-66.01\"/>\n<text text-anchor=\"middle\" x=\"601.66\" y=\"-5.2\" font-family=\"Arial\" font-size=\"16.00\">p = 0.7 &#160;reward =5</text>\n</g>\n<!-- s1&#45;a0&#45;&gt;s2 -->\n<g id=\"edge9\" class=\"edge\">\n<title>s1&#45;a0&#45;&gt;s2</title>\n<path fill=\"none\" stroke=\"blue\" stroke-dasharray=\"5,2\" d=\"M1044.41,-84.86C1040.27,-91.81 1035.97,-99.58 1032.57,-107 1022.19,-129.61 1033.72,-144.12 1014.57,-160 873.83,-276.68 635.88,-234.29 526.48,-206.07\"/>\n<polygon fill=\"blue\" stroke=\"blue\" points=\"527.18,-202.64 516.62,-203.48 525.4,-209.41 527.18,-202.64\"/>\n<text text-anchor=\"middle\" x=\"787.31\" y=\"-242.2\" font-family=\"Arial\" font-size=\"16.00\">p = 0.2</text>\n</g>\n<!-- s1&#45;a0&#45;&gt;s1 -->\n<g id=\"edge8\" class=\"edge\">\n<title>s1&#45;a0&#45;&gt;s1</title>\n<path fill=\"none\" stroke=\"blue\" stroke-dasharray=\"5,2\" d=\"M1033.71,-54.07C1012.54,-48.65 981.75,-43.53 955.57,-50 950.27,-51.31 944.94,-53.11 939.71,-55.21\"/>\n<polygon fill=\"blue\" stroke=\"blue\" points=\"938.19,-52.05 930.44,-59.28 941.01,-58.46 938.19,-52.05\"/>\n<text text-anchor=\"middle\" x=\"985.07\" y=\"-55.2\" font-family=\"Arial\" font-size=\"16.00\">p = 0.1</text>\n</g>\n<!-- s1&#45;a1&#45;&gt;s2 -->\n<g id=\"edge12\" class=\"edge\">\n<title>s1&#45;a1&#45;&gt;s2</title>\n<path fill=\"none\" stroke=\"blue\" stroke-dasharray=\"5,2\" d=\"M1053.65,-171.13C1047.82,-192.2 1036.32,-220.12 1014.57,-234 835.53,-348.28 739.43,-297.24 536.66,-234 530.01,-231.92 523.39,-228.99 517.05,-225.61\"/>\n<polygon fill=\"blue\" stroke=\"blue\" points=\"518.38,-222.34 507.97,-220.37 514.88,-228.4 518.38,-222.34\"/>\n<text text-anchor=\"middle\" x=\"787.31\" y=\"-306.2\" font-family=\"Arial\" font-size=\"16.00\">p = 0.05</text>\n</g>\n<!-- s1&#45;a1&#45;&gt;s1 -->\n<g id=\"edge11\" class=\"edge\">\n<title>s1&#45;a1&#45;&gt;s1</title>\n<path fill=\"none\" stroke=\"blue\" stroke-dasharray=\"5,2\" d=\"M1032.62,-140.43C1011.36,-137.08 980.98,-131.19 955.57,-122 950.52,-120.18 945.38,-118.04 940.3,-115.74\"/>\n<polygon fill=\"blue\" stroke=\"blue\" points=\"941.79,-112.57 931.26,-111.45 938.79,-118.9 941.79,-112.57\"/>\n<text text-anchor=\"middle\" x=\"985.07\" y=\"-143.2\" font-family=\"Arial\" font-size=\"16.00\">p = 0.95</text>\n</g>\n<!-- s2&#45;a0&#45;&gt;s0 -->\n<g id=\"edge14\" class=\"edge\">\n<title>s2&#45;a0&#45;&gt;s0</title>\n<path fill=\"none\" stroke=\"blue\" stroke-dasharray=\"5,2\" d=\"M685.47,-153.78C679.35,-152.02 672.81,-150.3 666.66,-149 601.73,-135.23 584.82,-134.38 518.66,-129 373.47,-117.2 202.1,-115.56 113.03,-115.63\"/>\n<polygon fill=\"blue\" stroke=\"blue\" points=\"112.84,-112.13 102.84,-115.65 112.85,-119.13 112.84,-112.13\"/>\n<text text-anchor=\"middle\" x=\"329.91\" y=\"-127.2\" font-family=\"Arial\" font-size=\"16.00\">p = 0.4</text>\n</g>\n<!-- s2&#45;a0&#45;&gt;s2 -->\n<g id=\"edge15\" class=\"edge\">\n<title>s2&#45;a0&#45;&gt;s2</title>\n<path fill=\"none\" stroke=\"blue\" stroke-dasharray=\"5,2\" d=\"M684.86,-157.94C650.38,-153.45 588.28,-148.17 536.66,-159 532.18,-159.94 527.65,-161.19 523.14,-162.64\"/>\n<polygon fill=\"blue\" stroke=\"blue\" points=\"521.63,-159.47 513.39,-166.12 523.99,-166.06 521.63,-159.47\"/>\n<text text-anchor=\"middle\" x=\"601.66\" y=\"-164.2\" font-family=\"Arial\" font-size=\"16.00\">p = 0.6</text>\n</g>\n<!-- s2&#45;a1&#45;&gt;s0 -->\n<g id=\"edge17\" class=\"edge\">\n<title>s2&#45;a1&#45;&gt;s0</title>\n<path fill=\"none\" stroke=\"blue\" stroke-dasharray=\"5,2\" d=\"M688.53,-62C681.77,-58.32 674.16,-54.89 666.66,-53 610.63,-38.88 594.43,-51.84 536.66,-53 351.12,-56.71 299.47,-40.01 120.75,-90 116.94,-91.07 113.04,-92.26 109.14,-93.53\"/>\n<polygon fill=\"blue\" stroke=\"blue\" points=\"107.79,-90.29 99.45,-96.83 110.05,-96.92 107.79,-90.29\"/>\n<text text-anchor=\"middle\" x=\"329.91\" y=\"-65.2\" font-family=\"Arial\" font-size=\"16.00\">p = 0.3 &#160;reward =&#45;1</text>\n</g>\n<!-- s2&#45;a1&#45;&gt;s2 -->\n<g id=\"edge19\" class=\"edge\">\n<title>s2&#45;a1&#45;&gt;s2</title>\n<path fill=\"none\" stroke=\"blue\" stroke-dasharray=\"5,2\" d=\"M685.84,-68.74C649.98,-58.69 583.65,-46.15 536.66,-73 514.45,-85.69 498.73,-108.73 488.02,-130.94\"/>\n<polygon fill=\"blue\" stroke=\"blue\" points=\"484.83,-129.5 483.87,-140.05 491.2,-132.4 484.83,-129.5\"/>\n<text text-anchor=\"middle\" x=\"601.66\" y=\"-78.2\" font-family=\"Arial\" font-size=\"16.00\">p = 0.4</text>\n</g>\n<!-- s2&#45;a1&#45;&gt;s1 -->\n<g id=\"edge18\" class=\"edge\">\n<title>s2&#45;a1&#45;&gt;s1</title>\n<path fill=\"none\" stroke=\"blue\" stroke-dasharray=\"5,2\" d=\"M740.1,-78.41C762.66,-79.59 795.75,-81.32 824.63,-82.83\"/>\n<polygon fill=\"blue\" stroke=\"blue\" points=\"824.47,-86.33 834.64,-83.35 824.84,-79.34 824.47,-86.33\"/>\n<text text-anchor=\"middle\" x=\"787.31\" y=\"-88.2\" font-family=\"Arial\" font-size=\"16.00\">p = 0.3</text>\n</g>\n</g>\n</svg>\n",
            "text/plain": [
              "<graphviz.graphs.Digraph at 0x7c31b1f5ae90>"
            ]
          },
          "metadata": {}
        },
        {
          "output_type": "stream",
          "name": "stdout",
          "text": [
            "iter    0   |   diff: 3.50000   |   V(s0) = 0.000   V(s1) = 0.000   V(s2) = 0.000\n",
            "iter    1   |   diff: 0.64500   |   V(s0) = 0.000   V(s1) = 3.500   V(s2) = 0.000\n",
            "iter    2   |   diff: 0.58050   |   V(s0) = 0.000   V(s1) = 3.815   V(s2) = 0.645\n",
            "iter    3   |   diff: 0.43582   |   V(s0) = 0.581   V(s1) = 3.959   V(s2) = 0.962\n",
            "iter    4   |   diff: 0.30634   |   V(s0) = 0.866   V(s1) = 4.395   V(s2) = 1.272\n",
            "iter    5   |   diff: 0.27571   |   V(s0) = 1.145   V(s1) = 4.670   V(s2) = 1.579\n",
            "iter    6   |   diff: 0.24347   |   V(s0) = 1.421   V(s1) = 4.926   V(s2) = 1.838\n",
            "iter    7   |   diff: 0.21419   |   V(s0) = 1.655   V(s1) = 5.169   V(s2) = 2.075\n",
            "iter    8   |   diff: 0.19277   |   V(s0) = 1.868   V(s1) = 5.381   V(s2) = 2.290\n",
            "iter    9   |   diff: 0.17327   |   V(s0) = 2.061   V(s1) = 5.573   V(s2) = 2.481\n",
            "iter   10   |   diff: 0.15569   |   V(s0) = 2.233   V(s1) = 5.746   V(s2) = 2.654\n",
            "iter   11   |   diff: 0.14012   |   V(s0) = 2.389   V(s1) = 5.902   V(s2) = 2.810\n",
            "iter   12   |   diff: 0.12610   |   V(s0) = 2.529   V(s1) = 6.042   V(s2) = 2.950\n",
            "iter   13   |   diff: 0.11348   |   V(s0) = 2.655   V(s1) = 6.168   V(s2) = 3.076\n",
            "iter   14   |   diff: 0.10213   |   V(s0) = 2.769   V(s1) = 6.282   V(s2) = 3.190\n",
            "iter   15   |   diff: 0.09192   |   V(s0) = 2.871   V(s1) = 6.384   V(s2) = 3.292\n",
            "iter   16   |   diff: 0.08272   |   V(s0) = 2.963   V(s1) = 6.476   V(s2) = 3.384\n",
            "iter   17   |   diff: 0.07445   |   V(s0) = 3.045   V(s1) = 6.558   V(s2) = 3.467\n",
            "iter   18   |   diff: 0.06701   |   V(s0) = 3.120   V(s1) = 6.633   V(s2) = 3.541\n",
            "iter   19   |   diff: 0.06031   |   V(s0) = 3.187   V(s1) = 6.700   V(s2) = 3.608\n",
            "iter   20   |   diff: 0.05428   |   V(s0) = 3.247   V(s1) = 6.760   V(s2) = 3.668\n",
            "iter   21   |   diff: 0.04885   |   V(s0) = 3.301   V(s1) = 6.814   V(s2) = 3.723\n",
            "iter   22   |   diff: 0.04396   |   V(s0) = 3.350   V(s1) = 6.863   V(s2) = 3.771\n",
            "iter   23   |   diff: 0.03957   |   V(s0) = 3.394   V(s1) = 6.907   V(s2) = 3.815\n",
            "iter   24   |   diff: 0.03561   |   V(s0) = 3.434   V(s1) = 6.947   V(s2) = 3.855\n",
            "iter   25   |   diff: 0.03205   |   V(s0) = 3.469   V(s1) = 6.982   V(s2) = 3.891\n",
            "iter   26   |   diff: 0.02884   |   V(s0) = 3.502   V(s1) = 7.014   V(s2) = 3.923\n",
            "iter   27   |   diff: 0.02596   |   V(s0) = 3.530   V(s1) = 7.043   V(s2) = 3.951\n",
            "iter   28   |   diff: 0.02336   |   V(s0) = 3.556   V(s1) = 7.069   V(s2) = 3.977\n",
            "iter   29   |   diff: 0.02103   |   V(s0) = 3.580   V(s1) = 7.093   V(s2) = 4.001\n",
            "iter   30   |   diff: 0.01892   |   V(s0) = 3.601   V(s1) = 7.114   V(s2) = 4.022\n",
            "iter   31   |   diff: 0.01703   |   V(s0) = 3.620   V(s1) = 7.133   V(s2) = 4.041\n",
            "iter   32   |   diff: 0.01533   |   V(s0) = 3.637   V(s1) = 7.150   V(s2) = 4.058\n",
            "iter   33   |   diff: 0.01380   |   V(s0) = 3.652   V(s1) = 7.165   V(s2) = 4.073\n",
            "iter   34   |   diff: 0.01242   |   V(s0) = 3.666   V(s1) = 7.179   V(s2) = 4.087\n",
            "iter   35   |   diff: 0.01117   |   V(s0) = 3.678   V(s1) = 7.191   V(s2) = 4.099\n",
            "iter   36   |   diff: 0.01006   |   V(s0) = 3.689   V(s1) = 7.202   V(s2) = 4.110\n",
            "iter   37   |   diff: 0.00905   |   V(s0) = 3.699   V(s1) = 7.212   V(s2) = 4.121\n",
            "iter   38   |   diff: 0.00815   |   V(s0) = 3.708   V(s1) = 7.221   V(s2) = 4.130\n",
            "iter   39   |   diff: 0.00733   |   V(s0) = 3.717   V(s1) = 7.230   V(s2) = 4.138\n",
            "iter   40   |   diff: 0.00660   |   V(s0) = 3.724   V(s1) = 7.237   V(s2) = 4.145\n",
            "iter   41   |   diff: 0.00594   |   V(s0) = 3.731   V(s1) = 7.244   V(s2) = 4.152\n",
            "iter   42   |   diff: 0.00534   |   V(s0) = 3.736   V(s1) = 7.249   V(s2) = 4.158\n",
            "iter   43   |   diff: 0.00481   |   V(s0) = 3.742   V(s1) = 7.255   V(s2) = 4.163\n",
            "iter   44   |   diff: 0.00433   |   V(s0) = 3.747   V(s1) = 7.260   V(s2) = 4.168\n",
            "iter   45   |   diff: 0.00390   |   V(s0) = 3.751   V(s1) = 7.264   V(s2) = 4.172\n",
            "iter   46   |   diff: 0.00351   |   V(s0) = 3.755   V(s1) = 7.268   V(s2) = 4.176\n",
            "iter   47   |   diff: 0.00316   |   V(s0) = 3.758   V(s1) = 7.271   V(s2) = 4.179\n",
            "iter   48   |   diff: 0.00284   |   V(s0) = 3.762   V(s1) = 7.275   V(s2) = 4.183\n",
            "iter   49   |   diff: 0.00256   |   V(s0) = 3.764   V(s1) = 7.277   V(s2) = 4.185\n",
            "iter   50   |   diff: 0.00230   |   V(s0) = 3.767   V(s1) = 7.280   V(s2) = 4.188\n",
            "iter   51   |   diff: 0.00207   |   V(s0) = 3.769   V(s1) = 7.282   V(s2) = 4.190\n",
            "iter   52   |   diff: 0.00186   |   V(s0) = 3.771   V(s1) = 7.284   V(s2) = 4.192\n",
            "iter   53   |   diff: 0.00168   |   V(s0) = 3.773   V(s1) = 7.286   V(s2) = 4.194\n",
            "iter   54   |   diff: 0.00151   |   V(s0) = 3.775   V(s1) = 7.288   V(s2) = 4.196\n",
            "iter   55   |   diff: 0.00136   |   V(s0) = 3.776   V(s1) = 7.289   V(s2) = 4.197\n",
            "iter   56   |   diff: 0.00122   |   V(s0) = 3.778   V(s1) = 7.291   V(s2) = 4.199\n",
            "iter   57   |   diff: 0.00110   |   V(s0) = 3.779   V(s1) = 7.292   V(s2) = 4.200\n",
            "iter   58   |   diff: 0.00099   |   V(s0) = 3.780   V(s1) = 7.293   V(s2) = 4.201\n",
            "Terminated\n"
          ]
        },
        {
          "output_type": "display_data",
          "data": {
            "image/svg+xml": "<?xml version=\"1.0\" encoding=\"UTF-8\" standalone=\"no\"?>\n<!DOCTYPE svg PUBLIC \"-//W3C//DTD SVG 1.1//EN\"\n \"http://www.w3.org/Graphics/SVG/1.1/DTD/svg11.dtd\">\n<!-- Generated by graphviz version 2.43.0 (0)\n -->\n<!-- Title: MDP Pages: 1 -->\n<svg width=\"1240pt\" height=\"310pt\"\n viewBox=\"0.00 0.00 1239.97 310.00\" xmlns=\"http://www.w3.org/2000/svg\" xmlns:xlink=\"http://www.w3.org/1999/xlink\">\n<g id=\"graph0\" class=\"graph\" transform=\"scale(1 1) rotate(0) translate(4 306)\">\n<title>MDP</title>\n<polygon fill=\"white\" stroke=\"transparent\" points=\"-4,4 -4,-306 1235.97,-306 1235.97,4 -4,4\"/>\n<!-- s0 -->\n<g id=\"node1\" class=\"node\">\n<title>s0</title>\n<ellipse fill=\"#85ff75\" stroke=\"#85ff75\" cx=\"75.42\" cy=\"-110\" rx=\"71.34\" ry=\"71.34\"/>\n<ellipse fill=\"none\" stroke=\"#85ff75\" cx=\"75.42\" cy=\"-110\" rx=\"75.34\" ry=\"75.34\"/>\n<text text-anchor=\"middle\" x=\"75.42\" y=\"-116.8\" font-family=\"Arial\" font-size=\"24.00\">s0</text>\n<text text-anchor=\"middle\" x=\"75.42\" y=\"-90.8\" font-family=\"Arial\" font-size=\"24.00\">V =3.78</text>\n</g>\n<!-- s0&#45;a0 -->\n<g id=\"node2\" class=\"node\">\n<title>s0&#45;a0</title>\n<ellipse fill=\"lightpink\" stroke=\"lightpink\" cx=\"264.41\" cy=\"-154\" rx=\"27.65\" ry=\"27.65\"/>\n<text text-anchor=\"middle\" x=\"264.41\" y=\"-149\" font-family=\"Arial\" font-size=\"20.00\">a0</text>\n</g>\n<!-- s0&#45;&gt;s0&#45;a0 -->\n<g id=\"edge1\" class=\"edge\">\n<title>s0&#45;&gt;s0&#45;a0</title>\n<path fill=\"none\" stroke=\"red\" stroke-width=\"2\" d=\"M150.18,-121.42C172.44,-125.55 196.8,-130.76 218.84,-137 222.21,-137.95 225.68,-139.06 229.13,-140.23\"/>\n<polygon fill=\"red\" stroke=\"red\" stroke-width=\"2\" points=\"228.09,-143.58 238.68,-143.68 230.46,-136.99 228.09,-143.58\"/>\n</g>\n<!-- s0&#45;a1 -->\n<g id=\"node4\" class=\"node\">\n<title>s0&#45;a1</title>\n<ellipse fill=\"lightpink\" stroke=\"lightpink\" cx=\"264.41\" cy=\"-227\" rx=\"27.65\" ry=\"27.65\"/>\n<text text-anchor=\"middle\" x=\"264.41\" y=\"-222\" font-family=\"Arial\" font-size=\"20.00\">a1</text>\n</g>\n<!-- s0&#45;&gt;s0&#45;a1 -->\n<g id=\"edge4\" class=\"edge\">\n<title>s0&#45;&gt;s0&#45;a1</title>\n<path fill=\"none\" stroke=\"red\" stroke-width=\"2\" d=\"M139.73,-149.61C170.68,-168.98 206.57,-191.44 231.7,-207.16\"/>\n<polygon fill=\"red\" stroke=\"red\" stroke-width=\"2\" points=\"230.1,-210.29 240.44,-212.62 233.82,-204.35 230.1,-210.29\"/>\n</g>\n<!-- s0&#45;a0&#45;&gt;s0 -->\n<g id=\"edge2\" class=\"edge\">\n<title>s0&#45;a0&#45;&gt;s0</title>\n<path fill=\"none\" stroke=\"blue\" stroke-dasharray=\"5,2\" d=\"M237.25,-148.8C218.22,-144.94 191.87,-139.42 168.84,-134 165.42,-133.2 161.95,-132.36 158.44,-131.51\"/>\n<polygon fill=\"blue\" stroke=\"blue\" points=\"159.03,-128.05 148.48,-129.05 157.36,-134.85 159.03,-128.05\"/>\n<text text-anchor=\"middle\" x=\"193.84\" y=\"-150.2\" font-family=\"Arial\" font-size=\"16.00\">p = 0.5</text>\n</g>\n<!-- s2 -->\n<g id=\"node3\" class=\"node\">\n<title>s2</title>\n<ellipse fill=\"#85ff75\" stroke=\"#85ff75\" cx=\"539.41\" cy=\"-201\" rx=\"71.34\" ry=\"71.34\"/>\n<ellipse fill=\"none\" stroke=\"#85ff75\" cx=\"539.41\" cy=\"-201\" rx=\"75.34\" ry=\"75.34\"/>\n<text text-anchor=\"middle\" x=\"539.41\" y=\"-207.8\" font-family=\"Arial\" font-size=\"24.00\">s2</text>\n<text text-anchor=\"middle\" x=\"539.41\" y=\"-181.8\" font-family=\"Arial\" font-size=\"24.00\">V =4.20</text>\n</g>\n<!-- s0&#45;a0&#45;&gt;s2 -->\n<g id=\"edge3\" class=\"edge\">\n<title>s0&#45;a0&#45;&gt;s2</title>\n<path fill=\"none\" stroke=\"blue\" stroke-dasharray=\"5,2\" d=\"M292.09,-158.59C329.49,-165.03 399.18,-177.03 454.91,-186.63\"/>\n<polygon fill=\"blue\" stroke=\"blue\" points=\"454.34,-190.08 464.79,-188.33 455.53,-183.18 454.34,-190.08\"/>\n<text text-anchor=\"middle\" x=\"377.99\" y=\"-190.2\" font-family=\"Arial\" font-size=\"16.00\">p = 0.5</text>\n</g>\n<!-- s2&#45;a0 -->\n<g id=\"node8\" class=\"node\">\n<title>s2&#45;a0</title>\n<ellipse fill=\"lightpink\" stroke=\"lightpink\" cx=\"808.4\" cy=\"-162\" rx=\"27.65\" ry=\"27.65\"/>\n<text text-anchor=\"middle\" x=\"808.4\" y=\"-157\" font-family=\"Arial\" font-size=\"20.00\">a0</text>\n</g>\n<!-- s2&#45;&gt;s2&#45;a0 -->\n<g id=\"edge13\" class=\"edge\">\n<title>s2&#45;&gt;s2&#45;a0</title>\n<path fill=\"none\" stroke=\"red\" stroke-width=\"2\" d=\"M615.01,-200.1C658.66,-198.14 714.51,-193.15 762.83,-181 766.47,-180.08 770.19,-178.91 773.86,-177.6\"/>\n<polygon fill=\"red\" stroke=\"red\" stroke-width=\"2\" points=\"775.33,-180.78 783.36,-173.87 772.77,-174.27 775.33,-180.78\"/>\n</g>\n<!-- s2&#45;a1 -->\n<g id=\"node9\" class=\"node\">\n<title>s2&#45;a1</title>\n<ellipse fill=\"lightpink\" stroke=\"lightpink\" cx=\"808.4\" cy=\"-80\" rx=\"27.65\" ry=\"27.65\"/>\n<text text-anchor=\"middle\" x=\"808.4\" y=\"-75\" font-family=\"Arial\" font-size=\"20.00\">a1</text>\n</g>\n<!-- s2&#45;&gt;s2&#45;a1 -->\n<g id=\"edge16\" class=\"edge\">\n<title>s2&#45;&gt;s2&#45;a1</title>\n<path fill=\"none\" stroke=\"red\" stroke-width=\"2\" d=\"M604.95,-163.22C614.2,-158.24 623.68,-153.35 632.83,-149 680.16,-126.46 736.95,-105 772.61,-92.16\"/>\n<polygon fill=\"red\" stroke=\"red\" stroke-width=\"2\" points=\"773.84,-95.44 782.08,-88.78 771.49,-88.85 773.84,-95.44\"/>\n</g>\n<!-- s0&#45;a1&#45;&gt;s2 -->\n<g id=\"edge5\" class=\"edge\">\n<title>s0&#45;a1&#45;&gt;s2</title>\n<path fill=\"none\" stroke=\"blue\" stroke-dasharray=\"5,2\" d=\"M292.09,-224.46C329.28,-220.92 398.42,-214.33 454,-209.04\"/>\n<polygon fill=\"blue\" stroke=\"blue\" points=\"454.59,-212.5 464.21,-208.07 453.92,-205.53 454.59,-212.5\"/>\n<text text-anchor=\"middle\" x=\"377.99\" y=\"-227.2\" font-family=\"Arial\" font-size=\"16.00\">p = 1</text>\n</g>\n<!-- s1 -->\n<g id=\"node5\" class=\"node\">\n<title>s1</title>\n<ellipse fill=\"#85ff75\" stroke=\"#85ff75\" cx=\"1006.4\" cy=\"-110\" rx=\"71.34\" ry=\"71.34\"/>\n<ellipse fill=\"none\" stroke=\"#85ff75\" cx=\"1006.4\" cy=\"-110\" rx=\"75.34\" ry=\"75.34\"/>\n<text text-anchor=\"middle\" x=\"1006.4\" y=\"-116.8\" font-family=\"Arial\" font-size=\"24.00\">s1</text>\n<text text-anchor=\"middle\" x=\"1006.4\" y=\"-90.8\" font-family=\"Arial\" font-size=\"24.00\">V =7.29</text>\n</g>\n<!-- s1&#45;a0 -->\n<g id=\"node6\" class=\"node\">\n<title>s1&#45;a0</title>\n<ellipse fill=\"lightpink\" stroke=\"lightpink\" cx=\"1204.39\" cy=\"-86\" rx=\"27.65\" ry=\"27.65\"/>\n<text text-anchor=\"middle\" x=\"1204.39\" y=\"-81\" font-family=\"Arial\" font-size=\"20.00\">a0</text>\n</g>\n<!-- s1&#45;&gt;s1&#45;a0 -->\n<g id=\"edge6\" class=\"edge\">\n<title>s1&#45;&gt;s1&#45;a0</title>\n<path fill=\"none\" stroke=\"red\" stroke-width=\"2\" d=\"M1081.95,-105.02C1106.52,-102.87 1133.91,-99.93 1158.82,-96 1161.51,-95.57 1164.29,-95.08 1167.08,-94.55\"/>\n<polygon fill=\"red\" stroke=\"red\" stroke-width=\"2\" points=\"1168.01,-97.93 1177.1,-92.49 1166.6,-91.08 1168.01,-97.93\"/>\n</g>\n<!-- s1&#45;a1 -->\n<g id=\"node7\" class=\"node\">\n<title>s1&#45;a1</title>\n<ellipse fill=\"lightpink\" stroke=\"lightpink\" cx=\"1204.39\" cy=\"-168\" rx=\"27.65\" ry=\"27.65\"/>\n<text text-anchor=\"middle\" x=\"1204.39\" y=\"-163\" font-family=\"Arial\" font-size=\"20.00\">a1</text>\n</g>\n<!-- s1&#45;&gt;s1&#45;a1 -->\n<g id=\"edge10\" class=\"edge\">\n<title>s1&#45;&gt;s1&#45;a1</title>\n<path fill=\"none\" stroke=\"red\" stroke-width=\"2\" d=\"M1080.07,-126.35C1105.25,-132.64 1133.5,-140.4 1158.82,-149 1162.37,-150.21 1166.04,-151.57 1169.68,-153\"/>\n<polygon fill=\"red\" stroke=\"red\" stroke-width=\"2\" points=\"1168.55,-156.32 1179.13,-156.87 1171.2,-149.84 1168.55,-156.32\"/>\n</g>\n<!-- s1&#45;a0&#45;&gt;s0 -->\n<g id=\"edge7\" class=\"edge\">\n<title>s1&#45;a0&#45;&gt;s0</title>\n<path fill=\"none\" stroke=\"blue\" stroke-dasharray=\"5,2\" d=\"M1182.11,-69.62C1147.5,-44.67 1075.95,0 1007.4,0 263.41,0 263.41,0 263.41,0 217.21,0 172.35,-25.26 138.16,-51.56\"/>\n<polygon fill=\"blue\" stroke=\"blue\" points=\"135.82,-48.95 130.14,-57.9 140.16,-54.44 135.82,-48.95\"/>\n<text text-anchor=\"middle\" x=\"697.83\" y=\"-5.2\" font-family=\"Arial\" font-size=\"16.00\">p = 0.7 &#160;reward =5</text>\n</g>\n<!-- s1&#45;a0&#45;&gt;s2 -->\n<g id=\"edge9\" class=\"edge\">\n<title>s1&#45;a0&#45;&gt;s2</title>\n<path fill=\"none\" stroke=\"blue\" stroke-dasharray=\"5,2\" d=\"M1188.69,-108.88C1184.55,-115.83 1180.24,-123.59 1176.82,-131 1166.55,-153.2 1177.68,-167.44 1158.82,-183 1132.15,-205 1116.26,-191.06 1081.82,-194 920.76,-207.73 731.8,-206.17 625.08,-203.67\"/>\n<polygon fill=\"blue\" stroke=\"blue\" points=\"625.1,-200.17 615.01,-203.43 624.93,-207.17 625.1,-200.17\"/>\n<text text-anchor=\"middle\" x=\"883.48\" y=\"-209.2\" font-family=\"Arial\" font-size=\"16.00\">p = 0.2</text>\n</g>\n<!-- s1&#45;a0&#45;&gt;s1 -->\n<g id=\"edge8\" class=\"edge\">\n<title>s1&#45;a0&#45;&gt;s1</title>\n<path fill=\"none\" stroke=\"blue\" stroke-dasharray=\"5,2\" d=\"M1177.7,-77.85C1171.57,-76.25 1165.01,-74.82 1158.82,-74 1132.82,-70.56 1125.59,-69.16 1099.82,-74 1095.09,-74.89 1090.3,-76.01 1085.51,-77.3\"/>\n<polygon fill=\"blue\" stroke=\"blue\" points=\"1084.32,-74.01 1075.71,-80.18 1086.29,-80.72 1084.32,-74.01\"/>\n<text text-anchor=\"middle\" x=\"1129.32\" y=\"-79.2\" font-family=\"Arial\" font-size=\"16.00\">p = 0.1</text>\n</g>\n<!-- s1&#45;a1&#45;&gt;s2 -->\n<g id=\"edge12\" class=\"edge\">\n<title>s1&#45;a1&#45;&gt;s2</title>\n<path fill=\"none\" stroke=\"blue\" stroke-dasharray=\"5,2\" d=\"M1193.43,-193.31C1186.2,-208 1174.85,-225.27 1158.82,-234 985.97,-328.1 744.14,-270.76 620.34,-230.44\"/>\n<polygon fill=\"blue\" stroke=\"blue\" points=\"621.14,-227.02 610.55,-227.21 618.95,-233.67 621.14,-227.02\"/>\n<text text-anchor=\"middle\" x=\"883.48\" y=\"-289.2\" font-family=\"Arial\" font-size=\"16.00\">p = 0.05</text>\n</g>\n<!-- s1&#45;a1&#45;&gt;s1 -->\n<g id=\"edge11\" class=\"edge\">\n<title>s1&#45;a1&#45;&gt;s1</title>\n<path fill=\"none\" stroke=\"blue\" stroke-dasharray=\"5,2\" d=\"M1177.13,-163.64C1156.02,-159.84 1125.71,-153.74 1099.82,-146 1095.26,-144.64 1090.61,-143.15 1085.95,-141.58\"/>\n<polygon fill=\"blue\" stroke=\"blue\" points=\"1086.96,-138.23 1076.36,-138.26 1084.66,-144.84 1086.96,-138.23\"/>\n<text text-anchor=\"middle\" x=\"1129.32\" y=\"-166.2\" font-family=\"Arial\" font-size=\"16.00\">p = 0.95</text>\n</g>\n<!-- s2&#45;a0&#45;&gt;s0 -->\n<g id=\"edge14\" class=\"edge\">\n<title>s2&#45;a0&#45;&gt;s0</title>\n<path fill=\"none\" stroke=\"blue\" stroke-dasharray=\"5,2\" d=\"M781.88,-154.02C745.32,-143.06 675.72,-123.91 614.83,-117 455.33,-98.9 267.57,-101.93 161.21,-105.89\"/>\n<polygon fill=\"blue\" stroke=\"blue\" points=\"161.04,-102.4 151.18,-106.28 161.31,-109.39 161.04,-102.4\"/>\n<text text-anchor=\"middle\" x=\"377.99\" y=\"-111.2\" font-family=\"Arial\" font-size=\"16.00\">p = 0.4</text>\n</g>\n<!-- s2&#45;a0&#45;&gt;s2 -->\n<g id=\"edge15\" class=\"edge\">\n<title>s2&#45;a0&#45;&gt;s2</title>\n<path fill=\"none\" stroke=\"blue\" stroke-dasharray=\"5,2\" d=\"M781.01,-157.84C746.5,-153.23 684.38,-147.84 632.83,-159 627.44,-160.17 622,-161.67 616.58,-163.42\"/>\n<polygon fill=\"blue\" stroke=\"blue\" points=\"615.18,-160.2 606.9,-166.8 617.49,-166.81 615.18,-160.2\"/>\n<text text-anchor=\"middle\" x=\"697.83\" y=\"-164.2\" font-family=\"Arial\" font-size=\"16.00\">p = 0.6</text>\n</g>\n<!-- s2&#45;a1&#45;&gt;s0 -->\n<g id=\"edge17\" class=\"edge\">\n<title>s2&#45;a1&#45;&gt;s0</title>\n<path fill=\"none\" stroke=\"blue\" stroke-dasharray=\"5,2\" d=\"M784.63,-65.62C777.87,-62.09 770.27,-58.81 762.83,-57 706.68,-43.37 690.6,-56.91 632.83,-57 489.34,-57.22 452.86,-44.73 309.99,-58 246.47,-63.9 230.97,-69.57 168.84,-84 165.26,-84.83 161.61,-85.71 157.93,-86.63\"/>\n<polygon fill=\"blue\" stroke=\"blue\" points=\"156.97,-83.26 148.15,-89.12 158.7,-90.04 156.97,-83.26\"/>\n<text text-anchor=\"middle\" x=\"377.99\" y=\"-63.2\" font-family=\"Arial\" font-size=\"16.00\">p = 0.3 &#160;reward =&#45;1</text>\n</g>\n<!-- s2&#45;a1&#45;&gt;s2 -->\n<g id=\"edge19\" class=\"edge\">\n<title>s2&#45;a1&#45;&gt;s2</title>\n<path fill=\"none\" stroke=\"blue\" stroke-dasharray=\"5,2\" d=\"M781.77,-72.02C746.2,-62.49 680.83,-50.67 632.83,-75 611.02,-86.05 593.11,-104.94 579.06,-124.77\"/>\n<polygon fill=\"blue\" stroke=\"blue\" points=\"575.98,-123.07 573.27,-133.31 581.78,-127 575.98,-123.07\"/>\n<text text-anchor=\"middle\" x=\"697.83\" y=\"-80.2\" font-family=\"Arial\" font-size=\"16.00\">p = 0.4</text>\n</g>\n<!-- s2&#45;a1&#45;&gt;s1 -->\n<g id=\"edge18\" class=\"edge\">\n<title>s2&#45;a1&#45;&gt;s1</title>\n<path fill=\"none\" stroke=\"blue\" stroke-dasharray=\"5,2\" d=\"M835.84,-84.05C857.99,-87.44 890.88,-92.47 921.81,-97.21\"/>\n<polygon fill=\"blue\" stroke=\"blue\" points=\"921.35,-100.68 931.77,-98.73 922.41,-93.76 921.35,-100.68\"/>\n<text text-anchor=\"middle\" x=\"883.48\" y=\"-100.2\" font-family=\"Arial\" font-size=\"16.00\">p = 0.3</text>\n</g>\n</g>\n</svg>\n",
            "text/plain": [
              "<graphviz.graphs.Digraph at 0x7c31b1f5ae90>"
            ]
          },
          "metadata": {}
        },
        {
          "output_type": "stream",
          "name": "stdout",
          "text": [
            "Final state values: {'s0': 3.7810348735476405, 's1': 7.294006423867229, 's2': 4.202140275227048}\n"
          ]
        }
      ]
    },
    {
      "cell_type": "code",
      "source": [
        "def get_optimal_action(mdp, state_values, state, gamma=0.9):\n",
        "    \"\"\" Находит оптимальное действие, используя формулу (3). \"\"\"\n",
        "    if mdp.is_terminal(state):\n",
        "        return None\n",
        "\n",
        "    # Инициализируем переменные для отслеживания оптимального действия\n",
        "    optimal_action = None\n",
        "    max_action_value = float('-inf')\n",
        "\n",
        "    # Проходим по всем возможным действиям и вычисляем Q(s, a)\n",
        "    for action in mdp.get_possible_actions(state):\n",
        "        action_value = get_action_value(mdp, state_values, state, action, gamma)\n",
        "        if action_value > max_action_value:\n",
        "            max_action_value = action_value\n",
        "            optimal_action = action\n",
        "\n",
        "    return optimal_action\n",
        "\n",
        "# Тесты\n",
        "assert get_optimal_action(mdp, state_values, 's0', gamma) == 'a1'\n",
        "assert get_optimal_action(mdp, state_values, 's1', gamma) == 'a0'\n",
        "assert get_optimal_action(mdp, state_values, 's2', gamma) == 'a1'\n",
        "assert get_optimal_action(mdp, {'s0': -1e10, 's1': 0, 's2': -2e10}, 's0', 0.9) == 'a0', \\\n",
        "    \"Убедитесь, что вы правильно обрабатываете отрицательные значения Q произвольной величины.\"\n",
        "assert get_optimal_action(mdp, {'s0': -2e10, 's1': 0, 's2': -1e10}, 's0', 0.9) == 'a1', \\\n",
        "    \"Убедитесь, что вы правильно обрабатываете отрицательные значения Q произвольной величины.\"\n",
        "\n",
        "# Измерение среднего вознаграждения агента\n",
        "s = mdp.reset()\n",
        "rewards = []\n",
        "for _ in range(10000):\n",
        "    s, r, done, _ = mdp.step(get_optimal_action(mdp, state_values, s, gamma))\n",
        "    rewards.append(r)\n",
        "print(\"average reward: \", np.mean(rewards))\n",
        "assert(0.40 < np.mean(rewards) < 0.55)\n"
      ],
      "metadata": {
        "colab": {
          "base_uri": "https://localhost:8080/"
        },
        "id": "H9AJLz3njViQ",
        "outputId": "da33d37a-fc57-4ff7-fea7-c9a1a2b59644"
      },
      "execution_count": 12,
      "outputs": [
        {
          "output_type": "stream",
          "name": "stdout",
          "text": [
            "average reward:  0.4608\n"
          ]
        }
      ]
    },
    {
      "cell_type": "code",
      "source": [
        "#Frozen Lake Env\n",
        "from mdp import FrozenLakeEnv\n",
        "mdp = FrozenLakeEnv(slip_chance=0)\n",
        "\n",
        "mdp.render()"
      ],
      "metadata": {
        "colab": {
          "base_uri": "https://localhost:8080/"
        },
        "id": "W8cXz0k-jYie",
        "outputId": "53e53fcc-aaf9-44fe-d0de-f79df65d7ebf"
      },
      "execution_count": 13,
      "outputs": [
        {
          "output_type": "stream",
          "name": "stdout",
          "text": [
            "*FFF\n",
            "FHFH\n",
            "FFFH\n",
            "HFFG\n",
            "\n"
          ]
        }
      ]
    },
    {
      "cell_type": "code",
      "source": [
        "def value_iteration(mdp, state_values=None, gamma=0.9, num_iter=1000, min_difference=1e-5):\n",
        "    \"\"\" Выполняет шаги итерации значения num_iter, начиная с state_values. \"\"\"\n",
        "    state_values = state_values or {s: 0 for s in mdp.get_all_states()}\n",
        "\n",
        "    for i in range(num_iter):\n",
        "        # Вычислите новые значения состояния, используя функции, которые вы определили ранее\n",
        "        new_state_values = {\n",
        "            state: get_new_state_value(mdp, state_values, state, gamma)\n",
        "            for state in mdp.get_all_states()\n",
        "        }\n",
        "\n",
        "        assert isinstance(new_state_values, dict)\n",
        "\n",
        "        # Вычисление отклонений\n",
        "        diff = max(abs(new_state_values[s] - state_values[s]) for s in mdp.get_all_states())\n",
        "        print(\"iter %4i   |   diff: %6.5f   |   V(start): %.3f \" %\n",
        "              (i, diff, new_state_values[mdp._initial_state]))\n",
        "\n",
        "        state_values = new_state_values\n",
        "\n",
        "        if diff < min_difference:\n",
        "            break\n",
        "\n",
        "    return state_values\n",
        "\n",
        "# Запуск алгоритма\n",
        "state_values = value_iteration(mdp)\n",
        "\n",
        "# Симуляция\n",
        "s = mdp.reset()\n",
        "mdp.render()\n",
        "for t in range(100):\n",
        "    a = get_optimal_action(mdp, state_values, s, gamma)\n",
        "    print(a, end='\\n\\n')\n",
        "    s, r, done, _ = mdp.step(a)\n",
        "    mdp.render()\n",
        "    if done:\n",
        "        break"
      ],
      "metadata": {
        "colab": {
          "base_uri": "https://localhost:8080/"
        },
        "id": "vDnyL_08jdyd",
        "outputId": "27bb503f-38b6-4458-dd66-54abe0460d68"
      },
      "execution_count": 14,
      "outputs": [
        {
          "output_type": "stream",
          "name": "stdout",
          "text": [
            "iter    0   |   diff: 1.00000   |   V(start): 0.000 \n",
            "iter    1   |   diff: 0.90000   |   V(start): 0.000 \n",
            "iter    2   |   diff: 0.81000   |   V(start): 0.000 \n",
            "iter    3   |   diff: 0.72900   |   V(start): 0.000 \n",
            "iter    4   |   diff: 0.65610   |   V(start): 0.000 \n",
            "iter    5   |   diff: 0.59049   |   V(start): 0.590 \n",
            "iter    6   |   diff: 0.00000   |   V(start): 0.590 \n",
            "*FFF\n",
            "FHFH\n",
            "FFFH\n",
            "HFFG\n",
            "\n",
            "down\n",
            "\n",
            "SFFF\n",
            "*HFH\n",
            "FFFH\n",
            "HFFG\n",
            "\n",
            "down\n",
            "\n",
            "SFFF\n",
            "FHFH\n",
            "*FFH\n",
            "HFFG\n",
            "\n",
            "right\n",
            "\n",
            "SFFF\n",
            "FHFH\n",
            "F*FH\n",
            "HFFG\n",
            "\n",
            "down\n",
            "\n",
            "SFFF\n",
            "FHFH\n",
            "FFFH\n",
            "H*FG\n",
            "\n",
            "right\n",
            "\n",
            "SFFF\n",
            "FHFH\n",
            "FFFH\n",
            "HF*G\n",
            "\n",
            "right\n",
            "\n",
            "SFFF\n",
            "FHFH\n",
            "FFFH\n",
            "HFF*\n",
            "\n"
          ]
        }
      ]
    },
    {
      "cell_type": "code",
      "source": [
        "import matplotlib.pyplot as plt\n",
        "def draw_policy(mdp, state_values):\n",
        "    plt.figure(figsize=(3, 3))\n",
        "    h, w = mdp.desc.shape\n",
        "    states = sorted(mdp.get_all_states())\n",
        "    V = np.array([state_values[s] for s in states])\n",
        "    Pi = {s: get_optimal_action(mdp, state_values, s, gamma) for s in states}\n",
        "    plt.imshow(V.reshape(w, h), cmap='gray', interpolation='none', clim=(0, 1))\n",
        "    ax = plt.gca()\n",
        "    ax.set_xticks(np.arange(h)-.5)\n",
        "    ax.set_yticks(np.arange(w)-.5)\n",
        "    ax.set_xticklabels([])\n",
        "    ax.set_yticklabels([])\n",
        "    Y, X = np.mgrid[0:4, 0:4]\n",
        "    a2uv = {'left': (-1, 0), 'down': (0, -1), 'right': (1, 0), 'up': (0, 1)}\n",
        "    for y in range(h):\n",
        "        for x in range(w):\n",
        "            plt.text(x, y, str(mdp.desc[y, x].item()),\n",
        "                     color='g', size=12,  verticalalignment='center',\n",
        "                     horizontalalignment='center', fontweight='bold')\n",
        "            a = Pi[y, x]\n",
        "            if a is None:\n",
        "                continue\n",
        "\n",
        "            u, v = a2uv[a]\n",
        "            plt.arrow(x, y, u*.3, -v*.3, color='m',\n",
        "                      head_width=0.1, head_length=0.1)\n",
        "    plt.grid(color='b', lw=2, ls='-')\n",
        "    plt.show()\n",
        "state_values = {s: 0 for s in mdp.get_all_states()}\n",
        "for i in range(10):\n",
        "    print(\"after iteration %i\" % i)\n",
        "    state_values = value_iteration(mdp, state_values, num_iter=1)\n",
        "    draw_policy(mdp, state_values)\n",
        "# please ignore iter 0 at each step\n",
        "from IPython.display import clear_output\n",
        "from time import sleep\n",
        "mdp = FrozenLakeEnv(map_name='8x8', slip_chance=0.1)\n",
        "state_values = {s: 0 for s in mdp.get_all_states()}\n",
        "for i in range(30):\n",
        "    clear_output(True)\n",
        "    print(\"after iteration %i\" % i)\n",
        "    state_values = value_iteration(mdp, state_values, num_iter=1)\n",
        "    draw_policy(mdp, state_values)\n",
        "    sleep(0.5)\n",
        "# please ignore iter 0 at each step\n"
      ],
      "metadata": {
        "colab": {
          "base_uri": "https://localhost:8080/",
          "height": 309
        },
        "id": "T9_vsKoKjf1P",
        "outputId": "911afbe0-0069-4269-af99-dda42021d7dd"
      },
      "execution_count": 15,
      "outputs": [
        {
          "output_type": "stream",
          "name": "stdout",
          "text": [
            "after iteration 29\n",
            "iter    0   |   diff: 0.00000   |   V(start): 0.198 \n"
          ]
        },
        {
          "output_type": "display_data",
          "data": {
            "text/plain": [
              "<Figure size 300x300 with 1 Axes>"
            ],
            "image/png": "[encoded data removed]"
          },
          "metadata": {}
        }
      ]
    },
    {
      "cell_type": "code",
      "source": [
        "mdp = FrozenLakeEnv(slip_chance=0)\n",
        "state_values = value_iteration(mdp)\n",
        "total_rewards = []\n",
        "for game_i in range(1000):\n",
        "    s = mdp.reset()\n",
        "    rewards = []\n",
        "    for t in range(100):\n",
        "        s, r, done, _ = mdp.step(\n",
        "            get_optimal_action(mdp, state_values, s, gamma))\n",
        "        rewards.append(r)\n",
        "        if done:\n",
        "            break\n",
        "    total_rewards.append(np.sum(rewards))\n",
        "print(\"average reward: \", np.mean(total_rewards))\n",
        "assert(1.0 <= np.mean(total_rewards) <= 1.0)\n",
        "print(\"Well done!\")"
      ],
      "metadata": {
        "colab": {
          "base_uri": "https://localhost:8080/"
        },
        "id": "6oqzSfAijhwZ",
        "outputId": "5e52ac4b-bab0-4901-d026-84edb643caa4"
      },
      "execution_count": 16,
      "outputs": [
        {
          "output_type": "stream",
          "name": "stdout",
          "text": [
            "iter    0   |   diff: 1.00000   |   V(start): 0.000 \n",
            "iter    1   |   diff: 0.90000   |   V(start): 0.000 \n",
            "iter    2   |   diff: 0.81000   |   V(start): 0.000 \n",
            "iter    3   |   diff: 0.72900   |   V(start): 0.000 \n",
            "iter    4   |   diff: 0.65610   |   V(start): 0.000 \n",
            "iter    5   |   diff: 0.59049   |   V(start): 0.590 \n",
            "iter    6   |   diff: 0.00000   |   V(start): 0.590 \n",
            "average reward:  1.0\n",
            "Well done!\n"
          ]
        }
      ]
    },
    {
      "cell_type": "code",
      "source": [
        "# Значение среднего вознаграждения агента\n",
        "mdp = FrozenLakeEnv(slip_chance=0.1)\n",
        "state_values = value_iteration(mdp)\n",
        "total_rewards = []\n",
        "for game_i in range(1000):\n",
        "    s = mdp.reset()\n",
        "    rewards = []\n",
        "    for t in range(100):\n",
        "        s, r, done, _ = mdp.step(\n",
        "            get_optimal_action(mdp, state_values, s, gamma))\n",
        "        rewards.append(r)\n",
        "        if done:\n",
        "            break\n",
        "    total_rewards.append(np.sum(rewards))\n",
        "print(\"average reward: \", np.mean(total_rewards))\n",
        "assert(0.8 <= np.mean(total_rewards) <= 0.95)\n",
        "print(\"Well done!\")"
      ],
      "metadata": {
        "colab": {
          "base_uri": "https://localhost:8080/"
        },
        "id": "umyxjtzQjjeQ",
        "outputId": "ee0e0892-c09f-4f1c-d2d8-37a55633df62"
      },
      "execution_count": 17,
      "outputs": [
        {
          "output_type": "stream",
          "name": "stdout",
          "text": [
            "iter    0   |   diff: 0.90000   |   V(start): 0.000 \n",
            "iter    1   |   diff: 0.72900   |   V(start): 0.000 \n",
            "iter    2   |   diff: 0.62330   |   V(start): 0.000 \n",
            "iter    3   |   diff: 0.50487   |   V(start): 0.000 \n",
            "iter    4   |   diff: 0.40894   |   V(start): 0.000 \n",
            "iter    5   |   diff: 0.34868   |   V(start): 0.349 \n",
            "iter    6   |   diff: 0.06529   |   V(start): 0.410 \n",
            "iter    7   |   diff: 0.05832   |   V(start): 0.468 \n",
            "iter    8   |   diff: 0.01139   |   V(start): 0.480 \n",
            "iter    9   |   diff: 0.00764   |   V(start): 0.487 \n",
            "iter   10   |   diff: 0.00164   |   V(start): 0.489 \n",
            "iter   11   |   diff: 0.00094   |   V(start): 0.490 \n",
            "iter   12   |   diff: 0.00022   |   V(start): 0.490 \n",
            "iter   13   |   diff: 0.00011   |   V(start): 0.490 \n",
            "iter   14   |   diff: 0.00003   |   V(start): 0.490 \n",
            "iter   15   |   diff: 0.00001   |   V(start): 0.490 \n",
            "iter   16   |   diff: 0.00000   |   V(start): 0.490 \n",
            "average reward:  0.884\n",
            "Well done!\n"
          ]
        }
      ]
    },
    {
      "cell_type": "code",
      "source": [
        "# Значение среднего вознаграждения агента\n",
        "mdp = FrozenLakeEnv(slip_chance=0.25)\n",
        "state_values = value_iteration(mdp)\n",
        "total_rewards = []\n",
        "for game_i in range(1000):\n",
        "    s = mdp.reset()\n",
        "    rewards = []\n",
        "    for t in range(100):\n",
        "        s, r, done, _ = mdp.step(\n",
        "            get_optimal_action(mdp, state_values, s, gamma))\n",
        "        rewards.append(r)\n",
        "        if done:\n",
        "            break\n",
        "    total_rewards.append(np.sum(rewards))\n",
        "print(\"average reward: \", np.mean(total_rewards))\n",
        "assert(0.6 <= np.mean(total_rewards) <= 0.7)\n",
        "print(\"Well done!\")"
      ],
      "metadata": {
        "colab": {
          "base_uri": "https://localhost:8080/"
        },
        "id": "OaJsx7BxjlW8",
        "outputId": "e06f06cb-3b8a-4747-aee3-9f5279943b56"
      },
      "execution_count": 18,
      "outputs": [
        {
          "output_type": "stream",
          "name": "stdout",
          "text": [
            "iter    0   |   diff: 0.75000   |   V(start): 0.000 \n",
            "iter    1   |   diff: 0.50625   |   V(start): 0.000 \n",
            "iter    2   |   diff: 0.39867   |   V(start): 0.000 \n",
            "iter    3   |   diff: 0.26910   |   V(start): 0.000 \n",
            "iter    4   |   diff: 0.18164   |   V(start): 0.000 \n",
            "iter    5   |   diff: 0.14013   |   V(start): 0.140 \n",
            "iter    6   |   diff: 0.07028   |   V(start): 0.199 \n",
            "iter    7   |   diff: 0.06030   |   V(start): 0.260 \n",
            "iter    8   |   diff: 0.02594   |   V(start): 0.285 \n",
            "iter    9   |   diff: 0.01918   |   V(start): 0.305 \n",
            "iter   10   |   diff: 0.00858   |   V(start): 0.313 \n",
            "iter   11   |   diff: 0.00560   |   V(start): 0.319 \n",
            "iter   12   |   diff: 0.00260   |   V(start): 0.321 \n",
            "iter   13   |   diff: 0.00159   |   V(start): 0.323 \n",
            "iter   14   |   diff: 0.00076   |   V(start): 0.324 \n",
            "iter   15   |   diff: 0.00045   |   V(start): 0.324 \n",
            "iter   16   |   diff: 0.00022   |   V(start): 0.324 \n",
            "iter   17   |   diff: 0.00012   |   V(start): 0.325 \n",
            "iter   18   |   diff: 0.00006   |   V(start): 0.325 \n",
            "iter   19   |   diff: 0.00003   |   V(start): 0.325 \n",
            "iter   20   |   diff: 0.00002   |   V(start): 0.325 \n",
            "iter   21   |   diff: 0.00001   |   V(start): 0.325 \n",
            "average reward:  0.677\n",
            "Well done!\n"
          ]
        }
      ]
    },
    {
      "cell_type": "code",
      "source": [
        "# Значение среднего вознаграждения агента\n",
        "mdp = FrozenLakeEnv(slip_chance=0.2, map_name='8x8')\n",
        "state_values = value_iteration(mdp)\n",
        "total_rewards = []\n",
        "for game_i in range(1000):\n",
        "    s = mdp.reset()\n",
        "    rewards = []\n",
        "    for t in range(100):\n",
        "        s, r, done, _ = mdp.step(\n",
        "            get_optimal_action(mdp, state_values, s, gamma))\n",
        "        rewards.append(r)\n",
        "        if done:\n",
        "            break\n",
        "    total_rewards.append(np.sum(rewards))\n",
        "print(\"average reward: \", np.mean(total_rewards))\n",
        "assert(0.6 <= np.mean(total_rewards) <= 0.8)\n",
        "print(\"Well done!\")"
      ],
      "metadata": {
        "colab": {
          "base_uri": "https://localhost:8080/"
        },
        "id": "8qOuTyoBjnHn",
        "outputId": "5cebccd6-dce1-466b-ffc4-2f316c20e1b4"
      },
      "execution_count": 19,
      "outputs": [
        {
          "output_type": "stream",
          "name": "stdout",
          "text": [
            "iter    0   |   diff: 0.80000   |   V(start): 0.000 \n",
            "iter    1   |   diff: 0.57600   |   V(start): 0.000 \n",
            "iter    2   |   diff: 0.41472   |   V(start): 0.000 \n",
            "iter    3   |   diff: 0.29860   |   V(start): 0.000 \n",
            "iter    4   |   diff: 0.24186   |   V(start): 0.000 \n",
            "iter    5   |   diff: 0.19349   |   V(start): 0.000 \n",
            "iter    6   |   diff: 0.15325   |   V(start): 0.000 \n",
            "iter    7   |   diff: 0.12288   |   V(start): 0.000 \n",
            "iter    8   |   diff: 0.09930   |   V(start): 0.000 \n",
            "iter    9   |   diff: 0.08037   |   V(start): 0.000 \n",
            "iter   10   |   diff: 0.06426   |   V(start): 0.000 \n",
            "iter   11   |   diff: 0.05129   |   V(start): 0.000 \n",
            "iter   12   |   diff: 0.04330   |   V(start): 0.000 \n",
            "iter   13   |   diff: 0.03802   |   V(start): 0.033 \n",
            "iter   14   |   diff: 0.03332   |   V(start): 0.058 \n",
            "iter   15   |   diff: 0.02910   |   V(start): 0.087 \n",
            "iter   16   |   diff: 0.01855   |   V(start): 0.106 \n",
            "iter   17   |   diff: 0.01403   |   V(start): 0.120 \n",
            "iter   18   |   diff: 0.00810   |   V(start): 0.128 \n",
            "iter   19   |   diff: 0.00555   |   V(start): 0.133 \n",
            "iter   20   |   diff: 0.00321   |   V(start): 0.137 \n",
            "iter   21   |   diff: 0.00247   |   V(start): 0.138 \n",
            "iter   22   |   diff: 0.00147   |   V(start): 0.139 \n",
            "iter   23   |   diff: 0.00104   |   V(start): 0.140 \n",
            "iter   24   |   diff: 0.00058   |   V(start): 0.140 \n",
            "iter   25   |   diff: 0.00036   |   V(start): 0.141 \n",
            "iter   26   |   diff: 0.00024   |   V(start): 0.141 \n",
            "iter   27   |   diff: 0.00018   |   V(start): 0.141 \n",
            "iter   28   |   diff: 0.00012   |   V(start): 0.141 \n",
            "iter   29   |   diff: 0.00007   |   V(start): 0.141 \n",
            "iter   30   |   diff: 0.00004   |   V(start): 0.141 \n",
            "iter   31   |   diff: 0.00003   |   V(start): 0.141 \n",
            "iter   32   |   diff: 0.00001   |   V(start): 0.141 \n",
            "iter   33   |   diff: 0.00001   |   V(start): 0.141 \n",
            "average reward:  0.74\n",
            "Well done!\n"
          ]
        }
      ]
    }
  ]
}